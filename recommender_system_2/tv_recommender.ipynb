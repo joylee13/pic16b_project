{
 "cells": [
  {
   "cell_type": "code",
   "execution_count": 1,
   "metadata": {},
   "outputs": [],
   "source": [
    "import pandas as pd\n",
    "import numpy as np\n",
    "import matplotlib.pyplot as plt\n",
    "import seaborn as sns\n",
    "from scipy import stats\n",
    "from ast import literal_eval\n",
    "from sklearn.feature_extraction.text import TfidfVectorizer, CountVectorizer\n",
    "from sklearn.metrics.pairwise import linear_kernel, cosine_similarity\n",
    "from nltk.stem.snowball import SnowballStemmer\n",
    "from nltk.stem.wordnet import WordNetLemmatizer\n",
    "from nltk.corpus import wordnet"
   ]
  },
  {
   "cell_type": "code",
   "execution_count": 2,
   "metadata": {},
   "outputs": [],
   "source": [
    "tv = pd.read_csv('../Netflix-Data/titles.csv')\n",
    "tv = tv[tv['type'] == 'SHOW']"
   ]
  },
  {
   "cell_type": "code",
   "execution_count": 3,
   "metadata": {},
   "outputs": [],
   "source": [
    "cols = ['id', 'title', 'description', 'release_year', 'genres', 'imdb_score', 'imdb_votes', 'tmdb_popularity', 'tmdb_score']\n",
    "tv = tv[cols]"
   ]
  },
  {
   "cell_type": "markdown",
   "metadata": {},
   "source": [
    "## Description"
   ]
  },
  {
   "cell_type": "code",
   "execution_count": 4,
   "metadata": {},
   "outputs": [],
   "source": [
    "tv['description'] = tv['description'].fillna('')"
   ]
  },
  {
   "cell_type": "code",
   "execution_count": 5,
   "metadata": {},
   "outputs": [],
   "source": [
    "tf = TfidfVectorizer(analyzer='word',ngram_range=(1, 2),min_df=0, stop_words='english')\n",
    "tfidf_matrix = tf.fit_transform(tv['description'])"
   ]
  },
  {
   "cell_type": "code",
   "execution_count": 6,
   "metadata": {},
   "outputs": [],
   "source": [
    "cosine_sim1 = linear_kernel(tfidf_matrix, tfidf_matrix)"
   ]
  },
  {
   "cell_type": "code",
   "execution_count": 7,
   "metadata": {},
   "outputs": [],
   "source": [
    "tv = tv.reset_index()\n",
    "titles = tv['title']\n",
    "indices = pd.Series(tv.index, index=tv['title'])"
   ]
  },
  {
   "cell_type": "code",
   "execution_count": 8,
   "metadata": {},
   "outputs": [],
   "source": [
    "def get_recommendations(title, cosine_sim):\n",
    "    idx = indices[title]\n",
    "    sim_scores = list(enumerate(cosine_sim[idx]))\n",
    "    sim_scores = sorted(sim_scores, key=lambda x: x[1], reverse=True)\n",
    "    sim_scores = sim_scores[1:31]\n",
    "    movie_indices = [i[0] for i in sim_scores]\n",
    "    return titles.iloc[movie_indices]"
   ]
  },
  {
   "cell_type": "code",
   "execution_count": 9,
   "metadata": {},
   "outputs": [
    {
     "data": {
      "text/plain": [
       "971     Jimmy: The True Story of a True Idiot\n",
       "368                                  Aquarius\n",
       "1639                                     Maid\n",
       "1378                              Brotherhood\n",
       "1782                                 Vincenzo\n",
       "1801                               Making Fun\n",
       "786                                   The Fix\n",
       "1766     Jimmy Savile: A British Horror Story\n",
       "40                               Breaking Bad\n",
       "1470         Trigger Warning with Killer Mike\n",
       "Name: title, dtype: object"
      ]
     },
     "execution_count": 9,
     "metadata": {},
     "output_type": "execute_result"
    }
   ],
   "source": [
    "get_recommendations('Better Call Saul', cosine_sim1).head(10)"
   ]
  },
  {
   "cell_type": "markdown",
   "metadata": {},
   "source": [
    "## Metadata"
   ]
  },
  {
   "cell_type": "code",
   "execution_count": 10,
   "metadata": {},
   "outputs": [],
   "source": [
    "credits = pd.read_csv('../Netflix-Data/credits.csv')\n",
    "credits = credits.dropna(subset=['character'])"
   ]
  },
  {
   "cell_type": "code",
   "execution_count": 11,
   "metadata": {},
   "outputs": [],
   "source": [
    "credits[\"name\"] = credits[\"name\"].str.replace(\" \", \"\")"
   ]
  },
  {
   "cell_type": "code",
   "execution_count": 12,
   "metadata": {},
   "outputs": [],
   "source": [
    "credits = credits.groupby(['id']).agg({'name': ' '.join}).reset_index()"
   ]
  },
  {
   "cell_type": "code",
   "execution_count": 13,
   "metadata": {},
   "outputs": [
    {
     "data": {
      "text/html": [
       "<div>\n",
       "<style scoped>\n",
       "    .dataframe tbody tr th:only-of-type {\n",
       "        vertical-align: middle;\n",
       "    }\n",
       "\n",
       "    .dataframe tbody tr th {\n",
       "        vertical-align: top;\n",
       "    }\n",
       "\n",
       "    .dataframe thead th {\n",
       "        text-align: right;\n",
       "    }\n",
       "</style>\n",
       "<table border=\"1\" class=\"dataframe\">\n",
       "  <thead>\n",
       "    <tr style=\"text-align: right;\">\n",
       "      <th></th>\n",
       "      <th>id</th>\n",
       "      <th>name</th>\n",
       "    </tr>\n",
       "  </thead>\n",
       "  <tbody>\n",
       "    <tr>\n",
       "      <th>0</th>\n",
       "      <td>tm1000037</td>\n",
       "      <td>LunaWedler JannisNiewöhner MilanPeschel EdinHa...</td>\n",
       "    </tr>\n",
       "    <tr>\n",
       "      <th>1</th>\n",
       "      <td>tm1000147</td>\n",
       "      <td>GuyPearce MatildaAnnaIngridLutz TravisFimmel J...</td>\n",
       "    </tr>\n",
       "    <tr>\n",
       "      <th>2</th>\n",
       "      <td>tm100015</td>\n",
       "      <td>IdrisElba PaulWalker MattDillon MichaelEaly Ja...</td>\n",
       "    </tr>\n",
       "    <tr>\n",
       "      <th>3</th>\n",
       "      <td>tm1000166</td>\n",
       "      <td>GlennFredly MarcelloTahitoe AndienAisyah Canti...</td>\n",
       "    </tr>\n",
       "    <tr>\n",
       "      <th>4</th>\n",
       "      <td>tm1000185</td>\n",
       "      <td>AdriannaChlebicka MateuszBanasiuk MirosławBaka...</td>\n",
       "    </tr>\n",
       "    <tr>\n",
       "      <th>...</th>\n",
       "      <td>...</td>\n",
       "      <td>...</td>\n",
       "    </tr>\n",
       "    <tr>\n",
       "      <th>4950</th>\n",
       "      <td>ts97584</td>\n",
       "      <td>SebastianPerry</td>\n",
       "    </tr>\n",
       "    <tr>\n",
       "      <th>4951</th>\n",
       "      <td>ts9794</td>\n",
       "      <td>JerrySeinfeld</td>\n",
       "    </tr>\n",
       "    <tr>\n",
       "      <th>4952</th>\n",
       "      <td>ts98252</td>\n",
       "      <td>TomMcGrath JohnDiMaggio DavidSchwimmer AndyRic...</td>\n",
       "    </tr>\n",
       "    <tr>\n",
       "      <th>4953</th>\n",
       "      <td>ts98316</td>\n",
       "      <td>JohnHurt</td>\n",
       "    </tr>\n",
       "    <tr>\n",
       "      <th>4954</th>\n",
       "      <td>ts987</td>\n",
       "      <td>DavidJason TerryScott EdwardKelsey BrianTrueman</td>\n",
       "    </tr>\n",
       "  </tbody>\n",
       "</table>\n",
       "<p>4955 rows × 2 columns</p>\n",
       "</div>"
      ],
      "text/plain": [
       "             id                                               name\n",
       "0     tm1000037  LunaWedler JannisNiewöhner MilanPeschel EdinHa...\n",
       "1     tm1000147  GuyPearce MatildaAnnaIngridLutz TravisFimmel J...\n",
       "2      tm100015  IdrisElba PaulWalker MattDillon MichaelEaly Ja...\n",
       "3     tm1000166  GlennFredly MarcelloTahitoe AndienAisyah Canti...\n",
       "4     tm1000185  AdriannaChlebicka MateuszBanasiuk MirosławBaka...\n",
       "...         ...                                                ...\n",
       "4950    ts97584                                     SebastianPerry\n",
       "4951     ts9794                                      JerrySeinfeld\n",
       "4952    ts98252  TomMcGrath JohnDiMaggio DavidSchwimmer AndyRic...\n",
       "4953    ts98316                                           JohnHurt\n",
       "4954      ts987    DavidJason TerryScott EdwardKelsey BrianTrueman\n",
       "\n",
       "[4955 rows x 2 columns]"
      ]
     },
     "execution_count": 13,
     "metadata": {},
     "output_type": "execute_result"
    }
   ],
   "source": [
    "credits"
   ]
  },
  {
   "cell_type": "code",
   "execution_count": 14,
   "metadata": {},
   "outputs": [],
   "source": [
    "tv = tv.merge(credits, on='id')"
   ]
  },
  {
   "cell_type": "code",
   "execution_count": 15,
   "metadata": {},
   "outputs": [],
   "source": [
    "tv['description'] = tv['description'].fillna('')\n",
    "tv['name'] = tv['name'].fillna('')"
   ]
  },
  {
   "cell_type": "code",
   "execution_count": 16,
   "metadata": {},
   "outputs": [],
   "source": [
    "tv['tags'] = tv['description'] + ' ' +  tv['name']"
   ]
  },
  {
   "cell_type": "code",
   "execution_count": 17,
   "metadata": {},
   "outputs": [
    {
     "data": {
      "text/html": [
       "<div>\n",
       "<style scoped>\n",
       "    .dataframe tbody tr th:only-of-type {\n",
       "        vertical-align: middle;\n",
       "    }\n",
       "\n",
       "    .dataframe tbody tr th {\n",
       "        vertical-align: top;\n",
       "    }\n",
       "\n",
       "    .dataframe thead th {\n",
       "        text-align: right;\n",
       "    }\n",
       "</style>\n",
       "<table border=\"1\" class=\"dataframe\">\n",
       "  <thead>\n",
       "    <tr style=\"text-align: right;\">\n",
       "      <th></th>\n",
       "      <th>index</th>\n",
       "      <th>id</th>\n",
       "      <th>title</th>\n",
       "      <th>description</th>\n",
       "      <th>release_year</th>\n",
       "      <th>genres</th>\n",
       "      <th>imdb_score</th>\n",
       "      <th>imdb_votes</th>\n",
       "      <th>tmdb_popularity</th>\n",
       "      <th>tmdb_score</th>\n",
       "      <th>name</th>\n",
       "      <th>tags</th>\n",
       "    </tr>\n",
       "  </thead>\n",
       "  <tbody>\n",
       "    <tr>\n",
       "      <th>0</th>\n",
       "      <td>5</td>\n",
       "      <td>ts22164</td>\n",
       "      <td>Monty Python's Flying Circus</td>\n",
       "      <td>A British sketch comedy series with the shows ...</td>\n",
       "      <td>1969</td>\n",
       "      <td>['comedy', 'european']</td>\n",
       "      <td>8.8</td>\n",
       "      <td>73424.0</td>\n",
       "      <td>17.617</td>\n",
       "      <td>8.306</td>\n",
       "      <td>GrahamChapman MichaelPalin TerryJones EricIdle...</td>\n",
       "      <td>A British sketch comedy series with the shows ...</td>\n",
       "    </tr>\n",
       "  </tbody>\n",
       "</table>\n",
       "</div>"
      ],
      "text/plain": [
       "   index       id                         title  \\\n",
       "0      5  ts22164  Monty Python's Flying Circus   \n",
       "\n",
       "                                         description  release_year  \\\n",
       "0  A British sketch comedy series with the shows ...          1969   \n",
       "\n",
       "                   genres  imdb_score  imdb_votes  tmdb_popularity  \\\n",
       "0  ['comedy', 'european']         8.8     73424.0           17.617   \n",
       "\n",
       "   tmdb_score                                               name  \\\n",
       "0       8.306  GrahamChapman MichaelPalin TerryJones EricIdle...   \n",
       "\n",
       "                                                tags  \n",
       "0  A British sketch comedy series with the shows ...  "
      ]
     },
     "execution_count": 17,
     "metadata": {},
     "output_type": "execute_result"
    }
   ],
   "source": [
    "tv.head(1)"
   ]
  },
  {
   "cell_type": "code",
   "execution_count": 18,
   "metadata": {},
   "outputs": [],
   "source": [
    "stemmer = SnowballStemmer('english')"
   ]
  },
  {
   "cell_type": "code",
   "execution_count": 19,
   "metadata": {},
   "outputs": [],
   "source": [
    "tv['tags'] = tv['tags'].str.lower()"
   ]
  },
  {
   "cell_type": "code",
   "execution_count": 20,
   "metadata": {},
   "outputs": [],
   "source": [
    "count = CountVectorizer(analyzer='word',ngram_range=(1, 3),min_df=0, stop_words='english')\n",
    "count_matrix = count.fit_transform(tv['tags'])"
   ]
  },
  {
   "cell_type": "code",
   "execution_count": 21,
   "metadata": {},
   "outputs": [],
   "source": [
    "cosine_sim2 = cosine_similarity(count_matrix, count_matrix)"
   ]
  },
  {
   "cell_type": "code",
   "execution_count": 22,
   "metadata": {},
   "outputs": [],
   "source": [
    "tv = tv.reset_index()\n",
    "titles = tv['title']\n",
    "indices = pd.Series(tv.index, index=tv['title'])"
   ]
  },
  {
   "cell_type": "code",
   "execution_count": 67,
   "metadata": {},
   "outputs": [
    {
     "name": "stderr",
     "output_type": "stream",
     "text": [
      "/var/folders/nx/02f7zqm17f5_3khk_h9y42s00000gn/T/ipykernel_2799/2363756368.py:1: FutureWarning: The behavior of `series[i:j]` with an integer-dtype index is deprecated. In a future version, this will be treated as *label-based* indexing, consistent with e.g. `series[i]` lookups. To retain the old behavior, use `series.iloc[i:j]`. To get the future behavior, use `series.loc[i:j]`.\n",
      "  get_recommendations('Breaking Bad', cosine_sim2)[:10]\n"
     ]
    },
    {
     "data": {
      "text/plain": [
       "908                     Merli: Dare to Know\n",
       "342                          W/ Bob & David\n",
       "333         The Adventures of Puss in Boots\n",
       "236                        Better Call Saul\n",
       "1404                        Ginny & Georgia\n",
       "1631                        So Not Worth It\n",
       "299                       Making a Murderer\n",
       "919                                Ultraman\n",
       "1284                 Arashi's Diary: Voyage\n",
       "351     Inside the World's Toughest Prisons\n",
       "Name: title, dtype: object"
      ]
     },
     "execution_count": 67,
     "metadata": {},
     "output_type": "execute_result"
    }
   ],
   "source": [
    "get_recommendations('Breaking Bad', cosine_sim2)[:10]"
   ]
  },
  {
   "cell_type": "code",
   "execution_count": 36,
   "metadata": {},
   "outputs": [],
   "source": [
    "def weighted_rating(x, m, C):\n",
    "    v = x['imdb_votes']\n",
    "    R = x['imdb_score']\n",
    "    return (v/(v+m) * R) + (m/(m+v) * C)"
   ]
  },
  {
   "cell_type": "code",
   "execution_count": 48,
   "metadata": {},
   "outputs": [],
   "source": [
    "def improved_recommendations(title, cosine_sim):\n",
    "    idx = indices[title]\n",
    "    sim_scores = list(enumerate(cosine_sim[idx]))\n",
    "    sim_scores = sorted(sim_scores, key=lambda x: x[1], reverse=True)\n",
    "    sim_scores = sim_scores[1:26]\n",
    "    movie_indices = [i[0] for i in sim_scores]\n",
    "    \n",
    "    movies = tv.iloc[movie_indices][['title', 'imdb_score', 'imdb_votes']]\n",
    "    vote_counts = movies[movies['imdb_votes'].notnull()]['imdb_votes'].astype('int')\n",
    "    vote_averages = movies[movies['imdb_score'].notnull()]['imdb_score'].astype('int')\n",
    "    C = vote_averages.mean()\n",
    "    m = vote_counts.quantile(0.60)\n",
    "    qualified = movies[(movies['imdb_votes'] >= m) & (movies['imdb_votes'].notnull())\n",
    "                       & (movies['imdb_score'].notnull())]\n",
    "    qualified['imdb_votes'] = qualified['imdb_votes'].astype('int')\n",
    "    qualified['imdb_score'] = qualified['imdb_score'].astype('int')\n",
    "    qualified['wr'] = qualified.apply(weighted_rating, args=(m, C), axis=1)\n",
    "    qualified = qualified.sort_values('wr', ascending=False).head(20)\n",
    "    return qualified"
   ]
  },
  {
   "cell_type": "code",
   "execution_count": 49,
   "metadata": {},
   "outputs": [
    {
     "name": "stderr",
     "output_type": "stream",
     "text": [
      "/var/folders/nx/02f7zqm17f5_3khk_h9y42s00000gn/T/ipykernel_2799/3946478958.py:15: SettingWithCopyWarning: \n",
      "A value is trying to be set on a copy of a slice from a DataFrame.\n",
      "Try using .loc[row_indexer,col_indexer] = value instead\n",
      "\n",
      "See the caveats in the documentation: https://pandas.pydata.org/pandas-docs/stable/user_guide/indexing.html#returning-a-view-versus-a-copy\n",
      "  qualified['imdb_votes'] = qualified['imdb_votes'].astype('int')\n",
      "/var/folders/nx/02f7zqm17f5_3khk_h9y42s00000gn/T/ipykernel_2799/3946478958.py:16: SettingWithCopyWarning: \n",
      "A value is trying to be set on a copy of a slice from a DataFrame.\n",
      "Try using .loc[row_indexer,col_indexer] = value instead\n",
      "\n",
      "See the caveats in the documentation: https://pandas.pydata.org/pandas-docs/stable/user_guide/indexing.html#returning-a-view-versus-a-copy\n",
      "  qualified['imdb_score'] = qualified['imdb_score'].astype('int')\n",
      "/var/folders/nx/02f7zqm17f5_3khk_h9y42s00000gn/T/ipykernel_2799/3946478958.py:17: SettingWithCopyWarning: \n",
      "A value is trying to be set on a copy of a slice from a DataFrame.\n",
      "Try using .loc[row_indexer,col_indexer] = value instead\n",
      "\n",
      "See the caveats in the documentation: https://pandas.pydata.org/pandas-docs/stable/user_guide/indexing.html#returning-a-view-versus-a-copy\n",
      "  qualified['wr'] = qualified.apply(weighted_rating, args=(m, C), axis=1)\n"
     ]
    },
    {
     "data": {
      "text/html": [
       "<div>\n",
       "<style scoped>\n",
       "    .dataframe tbody tr th:only-of-type {\n",
       "        vertical-align: middle;\n",
       "    }\n",
       "\n",
       "    .dataframe tbody tr th {\n",
       "        vertical-align: top;\n",
       "    }\n",
       "\n",
       "    .dataframe thead th {\n",
       "        text-align: right;\n",
       "    }\n",
       "</style>\n",
       "<table border=\"1\" class=\"dataframe\">\n",
       "  <thead>\n",
       "    <tr style=\"text-align: right;\">\n",
       "      <th></th>\n",
       "      <th>title</th>\n",
       "      <th>imdb_score</th>\n",
       "      <th>imdb_votes</th>\n",
       "      <th>wr</th>\n",
       "    </tr>\n",
       "  </thead>\n",
       "  <tbody>\n",
       "    <tr>\n",
       "      <th>523</th>\n",
       "      <td>My Mister</td>\n",
       "      <td>9</td>\n",
       "      <td>6043</td>\n",
       "      <td>8.134840</td>\n",
       "    </tr>\n",
       "    <tr>\n",
       "      <th>236</th>\n",
       "      <td>Better Call Saul</td>\n",
       "      <td>8</td>\n",
       "      <td>438575</td>\n",
       "      <td>7.989261</td>\n",
       "    </tr>\n",
       "    <tr>\n",
       "      <th>429</th>\n",
       "      <td>Ozark</td>\n",
       "      <td>8</td>\n",
       "      <td>300454</td>\n",
       "      <td>7.984382</td>\n",
       "    </tr>\n",
       "    <tr>\n",
       "      <th>299</th>\n",
       "      <td>Making a Murderer</td>\n",
       "      <td>8</td>\n",
       "      <td>94419</td>\n",
       "      <td>7.951541</td>\n",
       "    </tr>\n",
       "    <tr>\n",
       "      <th>50</th>\n",
       "      <td>The Spectacular Spider-Man</td>\n",
       "      <td>8</td>\n",
       "      <td>14996</td>\n",
       "      <td>7.744140</td>\n",
       "    </tr>\n",
       "    <tr>\n",
       "      <th>505</th>\n",
       "      <td>Chilling Adventures of Sabrina</td>\n",
       "      <td>7</td>\n",
       "      <td>91958</td>\n",
       "      <td>6.987573</td>\n",
       "    </tr>\n",
       "    <tr>\n",
       "      <th>1404</th>\n",
       "      <td>Ginny &amp; Georgia</td>\n",
       "      <td>7</td>\n",
       "      <td>46343</td>\n",
       "      <td>6.976214</td>\n",
       "    </tr>\n",
       "    <tr>\n",
       "      <th>342</th>\n",
       "      <td>W/ Bob &amp; David</td>\n",
       "      <td>7</td>\n",
       "      <td>4160</td>\n",
       "      <td>6.846263</td>\n",
       "    </tr>\n",
       "    <tr>\n",
       "      <th>386</th>\n",
       "      <td>Spotless</td>\n",
       "      <td>7</td>\n",
       "      <td>3663</td>\n",
       "      <td>6.835687</td>\n",
       "    </tr>\n",
       "    <tr>\n",
       "      <th>636</th>\n",
       "      <td>Life Sentence</td>\n",
       "      <td>6</td>\n",
       "      <td>3899</td>\n",
       "      <td>6.318231</td>\n",
       "    </tr>\n",
       "  </tbody>\n",
       "</table>\n",
       "</div>"
      ],
      "text/plain": [
       "                               title  imdb_score  imdb_votes        wr\n",
       "523                        My Mister           9        6043  8.134840\n",
       "236                 Better Call Saul           8      438575  7.989261\n",
       "429                            Ozark           8      300454  7.984382\n",
       "299                Making a Murderer           8       94419  7.951541\n",
       "50        The Spectacular Spider-Man           8       14996  7.744140\n",
       "505   Chilling Adventures of Sabrina           7       91958  6.987573\n",
       "1404                 Ginny & Georgia           7       46343  6.976214\n",
       "342                   W/ Bob & David           7        4160  6.846263\n",
       "386                         Spotless           7        3663  6.835687\n",
       "636                    Life Sentence           6        3899  6.318231"
      ]
     },
     "execution_count": 49,
     "metadata": {},
     "output_type": "execute_result"
    }
   ],
   "source": [
    "improved_recommendations(\"Breaking Bad\", cosine_sim2)"
   ]
  },
  {
   "cell_type": "code",
   "execution_count": 62,
   "metadata": {},
   "outputs": [],
   "source": [
    "tv_list = ['Breaking Bad', 'Better Call Saul', 'Ozark', 'Bojack Horseman', \n",
    "           'Ginny & Georgia']"
   ]
  },
  {
   "cell_type": "code",
   "execution_count": 63,
   "metadata": {},
   "outputs": [],
   "source": [
    "user_scores = pd.DataFrame(tv['title'])\n",
    "user_scores['wr'] = 0.0"
   ]
  },
  {
   "cell_type": "code",
   "execution_count": 64,
   "metadata": {},
   "outputs": [
    {
     "name": "stderr",
     "output_type": "stream",
     "text": [
      "/var/folders/nx/02f7zqm17f5_3khk_h9y42s00000gn/T/ipykernel_2799/3946478958.py:15: SettingWithCopyWarning: \n",
      "A value is trying to be set on a copy of a slice from a DataFrame.\n",
      "Try using .loc[row_indexer,col_indexer] = value instead\n",
      "\n",
      "See the caveats in the documentation: https://pandas.pydata.org/pandas-docs/stable/user_guide/indexing.html#returning-a-view-versus-a-copy\n",
      "  qualified['imdb_votes'] = qualified['imdb_votes'].astype('int')\n",
      "/var/folders/nx/02f7zqm17f5_3khk_h9y42s00000gn/T/ipykernel_2799/3946478958.py:16: SettingWithCopyWarning: \n",
      "A value is trying to be set on a copy of a slice from a DataFrame.\n",
      "Try using .loc[row_indexer,col_indexer] = value instead\n",
      "\n",
      "See the caveats in the documentation: https://pandas.pydata.org/pandas-docs/stable/user_guide/indexing.html#returning-a-view-versus-a-copy\n",
      "  qualified['imdb_score'] = qualified['imdb_score'].astype('int')\n",
      "/var/folders/nx/02f7zqm17f5_3khk_h9y42s00000gn/T/ipykernel_2799/3946478958.py:17: SettingWithCopyWarning: \n",
      "A value is trying to be set on a copy of a slice from a DataFrame.\n",
      "Try using .loc[row_indexer,col_indexer] = value instead\n",
      "\n",
      "See the caveats in the documentation: https://pandas.pydata.org/pandas-docs/stable/user_guide/indexing.html#returning-a-view-versus-a-copy\n",
      "  qualified['wr'] = qualified.apply(weighted_rating, args=(m, C), axis=1)\n",
      "/var/folders/nx/02f7zqm17f5_3khk_h9y42s00000gn/T/ipykernel_2799/3946478958.py:15: SettingWithCopyWarning: \n",
      "A value is trying to be set on a copy of a slice from a DataFrame.\n",
      "Try using .loc[row_indexer,col_indexer] = value instead\n",
      "\n",
      "See the caveats in the documentation: https://pandas.pydata.org/pandas-docs/stable/user_guide/indexing.html#returning-a-view-versus-a-copy\n",
      "  qualified['imdb_votes'] = qualified['imdb_votes'].astype('int')\n",
      "/var/folders/nx/02f7zqm17f5_3khk_h9y42s00000gn/T/ipykernel_2799/3946478958.py:16: SettingWithCopyWarning: \n",
      "A value is trying to be set on a copy of a slice from a DataFrame.\n",
      "Try using .loc[row_indexer,col_indexer] = value instead\n",
      "\n",
      "See the caveats in the documentation: https://pandas.pydata.org/pandas-docs/stable/user_guide/indexing.html#returning-a-view-versus-a-copy\n",
      "  qualified['imdb_score'] = qualified['imdb_score'].astype('int')\n",
      "/var/folders/nx/02f7zqm17f5_3khk_h9y42s00000gn/T/ipykernel_2799/3946478958.py:17: SettingWithCopyWarning: \n",
      "A value is trying to be set on a copy of a slice from a DataFrame.\n",
      "Try using .loc[row_indexer,col_indexer] = value instead\n",
      "\n",
      "See the caveats in the documentation: https://pandas.pydata.org/pandas-docs/stable/user_guide/indexing.html#returning-a-view-versus-a-copy\n",
      "  qualified['wr'] = qualified.apply(weighted_rating, args=(m, C), axis=1)\n",
      "/var/folders/nx/02f7zqm17f5_3khk_h9y42s00000gn/T/ipykernel_2799/3946478958.py:15: SettingWithCopyWarning: \n",
      "A value is trying to be set on a copy of a slice from a DataFrame.\n",
      "Try using .loc[row_indexer,col_indexer] = value instead\n",
      "\n",
      "See the caveats in the documentation: https://pandas.pydata.org/pandas-docs/stable/user_guide/indexing.html#returning-a-view-versus-a-copy\n",
      "  qualified['imdb_votes'] = qualified['imdb_votes'].astype('int')\n",
      "/var/folders/nx/02f7zqm17f5_3khk_h9y42s00000gn/T/ipykernel_2799/3946478958.py:16: SettingWithCopyWarning: \n",
      "A value is trying to be set on a copy of a slice from a DataFrame.\n",
      "Try using .loc[row_indexer,col_indexer] = value instead\n",
      "\n",
      "See the caveats in the documentation: https://pandas.pydata.org/pandas-docs/stable/user_guide/indexing.html#returning-a-view-versus-a-copy\n",
      "  qualified['imdb_score'] = qualified['imdb_score'].astype('int')\n",
      "/var/folders/nx/02f7zqm17f5_3khk_h9y42s00000gn/T/ipykernel_2799/3946478958.py:17: SettingWithCopyWarning: \n",
      "A value is trying to be set on a copy of a slice from a DataFrame.\n",
      "Try using .loc[row_indexer,col_indexer] = value instead\n",
      "\n",
      "See the caveats in the documentation: https://pandas.pydata.org/pandas-docs/stable/user_guide/indexing.html#returning-a-view-versus-a-copy\n",
      "  qualified['wr'] = qualified.apply(weighted_rating, args=(m, C), axis=1)\n",
      "/var/folders/nx/02f7zqm17f5_3khk_h9y42s00000gn/T/ipykernel_2799/3946478958.py:15: SettingWithCopyWarning: \n",
      "A value is trying to be set on a copy of a slice from a DataFrame.\n",
      "Try using .loc[row_indexer,col_indexer] = value instead\n",
      "\n",
      "See the caveats in the documentation: https://pandas.pydata.org/pandas-docs/stable/user_guide/indexing.html#returning-a-view-versus-a-copy\n",
      "  qualified['imdb_votes'] = qualified['imdb_votes'].astype('int')\n",
      "/var/folders/nx/02f7zqm17f5_3khk_h9y42s00000gn/T/ipykernel_2799/3946478958.py:16: SettingWithCopyWarning: \n",
      "A value is trying to be set on a copy of a slice from a DataFrame.\n",
      "Try using .loc[row_indexer,col_indexer] = value instead\n",
      "\n",
      "See the caveats in the documentation: https://pandas.pydata.org/pandas-docs/stable/user_guide/indexing.html#returning-a-view-versus-a-copy\n",
      "  qualified['imdb_score'] = qualified['imdb_score'].astype('int')\n",
      "/var/folders/nx/02f7zqm17f5_3khk_h9y42s00000gn/T/ipykernel_2799/3946478958.py:17: SettingWithCopyWarning: \n",
      "A value is trying to be set on a copy of a slice from a DataFrame.\n",
      "Try using .loc[row_indexer,col_indexer] = value instead\n",
      "\n",
      "See the caveats in the documentation: https://pandas.pydata.org/pandas-docs/stable/user_guide/indexing.html#returning-a-view-versus-a-copy\n",
      "  qualified['wr'] = qualified.apply(weighted_rating, args=(m, C), axis=1)\n"
     ]
    }
   ],
   "source": [
    "umber_of_recommendations = 10000\n",
    "for tv_name in tv_list:\n",
    "    try:\n",
    "        top_titles_df = improved_recommendations(tv_name, cosine_sim2)\n",
    "    except:\n",
    "        pass\n",
    "    # aggregate the scores\n",
    "    user_scores = pd.concat([user_scores, top_titles_df[['title', 'wr']]]).groupby(['title'], as_index=False).sum({'wr'})"
   ]
  },
  {
   "cell_type": "code",
   "execution_count": 65,
   "metadata": {},
   "outputs": [
    {
     "data": {
      "text/html": [
       "<div>\n",
       "<style scoped>\n",
       "    .dataframe tbody tr th:only-of-type {\n",
       "        vertical-align: middle;\n",
       "    }\n",
       "\n",
       "    .dataframe tbody tr th {\n",
       "        vertical-align: top;\n",
       "    }\n",
       "\n",
       "    .dataframe thead th {\n",
       "        text-align: right;\n",
       "    }\n",
       "</style>\n",
       "<table border=\"1\" class=\"dataframe\">\n",
       "  <thead>\n",
       "    <tr style=\"text-align: right;\">\n",
       "      <th></th>\n",
       "      <th>title</th>\n",
       "      <th>wr</th>\n",
       "    </tr>\n",
       "  </thead>\n",
       "  <tbody>\n",
       "    <tr>\n",
       "      <th>1652</th>\n",
       "      <td>jeen-yuhs</td>\n",
       "      <td>22.696336</td>\n",
       "    </tr>\n",
       "    <tr>\n",
       "      <th>951</th>\n",
       "      <td>Peaky Blinders</td>\n",
       "      <td>15.969155</td>\n",
       "    </tr>\n",
       "    <tr>\n",
       "      <th>94</th>\n",
       "      <td>Arrested Development</td>\n",
       "      <td>15.947990</td>\n",
       "    </tr>\n",
       "    <tr>\n",
       "      <th>1481</th>\n",
       "      <td>Top Boy</td>\n",
       "      <td>15.492611</td>\n",
       "    </tr>\n",
       "    <tr>\n",
       "      <th>1421</th>\n",
       "      <td>The Spectacular Spider-Man</td>\n",
       "      <td>15.369437</td>\n",
       "    </tr>\n",
       "    <tr>\n",
       "      <th>179</th>\n",
       "      <td>Bloodline</td>\n",
       "      <td>13.979059</td>\n",
       "    </tr>\n",
       "    <tr>\n",
       "      <th>578</th>\n",
       "      <td>How to Sell Drugs Online (Fast)</td>\n",
       "      <td>13.968345</td>\n",
       "    </tr>\n",
       "    <tr>\n",
       "      <th>990</th>\n",
       "      <td>Queen of the South</td>\n",
       "      <td>13.966610</td>\n",
       "    </tr>\n",
       "    <tr>\n",
       "      <th>1194</th>\n",
       "      <td>Tales of the City</td>\n",
       "      <td>13.919607</td>\n",
       "    </tr>\n",
       "    <tr>\n",
       "      <th>844</th>\n",
       "      <td>My Mister</td>\n",
       "      <td>8.134840</td>\n",
       "    </tr>\n",
       "    <tr>\n",
       "      <th>758</th>\n",
       "      <td>Maid</td>\n",
       "      <td>7.959798</td>\n",
       "    </tr>\n",
       "    <tr>\n",
       "      <th>761</th>\n",
       "      <td>Making a Murderer</td>\n",
       "      <td>7.951541</td>\n",
       "    </tr>\n",
       "    <tr>\n",
       "      <th>108</th>\n",
       "      <td>Atypical</td>\n",
       "      <td>7.916289</td>\n",
       "    </tr>\n",
       "    <tr>\n",
       "      <th>779</th>\n",
       "      <td>Master of None</td>\n",
       "      <td>7.906770</td>\n",
       "    </tr>\n",
       "    <tr>\n",
       "      <th>656</th>\n",
       "      <td>Kath &amp; Kim</td>\n",
       "      <td>7.559426</td>\n",
       "    </tr>\n",
       "    <tr>\n",
       "      <th>1565</th>\n",
       "      <td>Virgin River</td>\n",
       "      <td>6.996836</td>\n",
       "    </tr>\n",
       "    <tr>\n",
       "      <th>1561</th>\n",
       "      <td>Vikings: Valhalla</td>\n",
       "      <td>6.996700</td>\n",
       "    </tr>\n",
       "    <tr>\n",
       "      <th>83</th>\n",
       "      <td>Aquarius</td>\n",
       "      <td>6.991871</td>\n",
       "    </tr>\n",
       "    <tr>\n",
       "      <th>250</th>\n",
       "      <td>Chilling Adventures of Sabrina</td>\n",
       "      <td>6.987573</td>\n",
       "    </tr>\n",
       "    <tr>\n",
       "      <th>1326</th>\n",
       "      <td>The Innocent Man</td>\n",
       "      <td>6.986206</td>\n",
       "    </tr>\n",
       "  </tbody>\n",
       "</table>\n",
       "</div>"
      ],
      "text/plain": [
       "                                title         wr\n",
       "1652                        jeen-yuhs  22.696336\n",
       "951                    Peaky Blinders  15.969155\n",
       "94               Arrested Development  15.947990\n",
       "1481                          Top Boy  15.492611\n",
       "1421       The Spectacular Spider-Man  15.369437\n",
       "179                         Bloodline  13.979059\n",
       "578   How to Sell Drugs Online (Fast)  13.968345\n",
       "990                Queen of the South  13.966610\n",
       "1194                Tales of the City  13.919607\n",
       "844                         My Mister   8.134840\n",
       "758                              Maid   7.959798\n",
       "761                 Making a Murderer   7.951541\n",
       "108                          Atypical   7.916289\n",
       "779                    Master of None   7.906770\n",
       "656                        Kath & Kim   7.559426\n",
       "1565                     Virgin River   6.996836\n",
       "1561                Vikings: Valhalla   6.996700\n",
       "83                           Aquarius   6.991871\n",
       "250    Chilling Adventures of Sabrina   6.987573\n",
       "1326                 The Innocent Man   6.986206"
      ]
     },
     "execution_count": 65,
     "metadata": {},
     "output_type": "execute_result"
    }
   ],
   "source": [
    "user_scores = user_scores[~user_scores['title'].isin(tv_list)]\n",
    "user_scores.sort_values(by='wr', ascending=False)[:20]"
   ]
  },
  {
   "cell_type": "code",
   "execution_count": null,
   "metadata": {},
   "outputs": [],
   "source": []
  }
 ],
 "metadata": {
  "kernelspec": {
   "display_name": "PIC16B",
   "language": "python",
   "name": "python3"
  },
  "language_info": {
   "codemirror_mode": {
    "name": "ipython",
    "version": 3
   },
   "file_extension": ".py",
   "mimetype": "text/x-python",
   "name": "python",
   "nbconvert_exporter": "python",
   "pygments_lexer": "ipython3",
   "version": "3.8.15"
  },
  "orig_nbformat": 4
 },
 "nbformat": 4,
 "nbformat_minor": 2
}
