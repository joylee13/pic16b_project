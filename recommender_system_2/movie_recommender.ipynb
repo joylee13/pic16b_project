{
 "cells": [
  {
   "cell_type": "code",
   "execution_count": 1,
   "metadata": {},
   "outputs": [],
   "source": [
    "import numpy as np\n",
    "import pandas as pd\n",
    "import seaborn as sns\n",
    "import matplotlib.pyplot as plt\n",
    "sns.set_style('white', { 'axes.spines.right': False, 'axes.spines.top': False})\n",
    "from sklearn.feature_extraction.text import CountVectorizer, TfidfVectorizer\n",
    "from sklearn.metrics.pairwise import cosine_similarity\n",
    "from sklearn.decomposition import TruncatedSVD\n",
    "from nltk.corpus import stopwords"
   ]
  },
  {
   "attachments": {},
   "cell_type": "markdown",
   "metadata": {},
   "source": [
    "## Load Data"
   ]
  },
  {
   "cell_type": "code",
   "execution_count": null,
   "metadata": {},
   "outputs": [],
   "source": [
    "path = '../MLdata/'"
   ]
  },
  {
   "cell_type": "code",
   "execution_count": null,
   "metadata": {},
   "outputs": [],
   "source": [
    "# movie metadata\n",
    "df_meta=pd.read_csv(path + 'movies_metadata.csv', low_memory=False, encoding='UTF-8') \n",
    "df_meta = df_meta.drop([19730, 29503, 35587])"
   ]
  },
  {
   "cell_type": "code",
   "execution_count": null,
   "metadata": {},
   "outputs": [],
   "source": [
    "df_meta = df_meta.set_index(df_meta['id'].str.strip().replace(',','').astype(int))\n",
    "pd.set_option('display.max_colwidth', 20)\n",
    "df_meta.head()"
   ]
  },
  {
   "cell_type": "code",
   "execution_count": null,
   "metadata": {},
   "outputs": [],
   "source": [
    "# load movie credits\n",
    "df_credits = pd.read_csv(path + 'credits.csv', encoding='UTF-8')\n",
    "df_credits = df_credits.set_index('id')"
   ]
  },
  {
   "cell_type": "code",
   "execution_count": null,
   "metadata": {},
   "outputs": [],
   "source": [
    "# load movie keywords\n",
    "df_keywords=pd.read_csv(path + 'keywords.csv', low_memory=False, encoding='UTF-8') \n",
    "df_keywords = df_keywords.set_index('id')"
   ]
  },
  {
   "cell_type": "code",
   "execution_count": null,
   "metadata": {},
   "outputs": [],
   "source": [
    "# merge\n",
    "df_k_c = df_keywords.merge(df_credits, left_index=True, right_on='id')\n",
    "df = df_k_c.merge(df_meta[['release_date','genres','overview','title']], left_index=True, right_on='id')\n",
    "df.head(3)"
   ]
  },
  {
   "attachments": {},
   "cell_type": "markdown",
   "metadata": {},
   "source": [
    "## Data Cleaning\n",
    "\n",
    "### Smaller subset"
   ]
  },
  {
   "cell_type": "code",
   "execution_count": null,
   "metadata": {},
   "outputs": [],
   "source": [
    "links_small = pd.read_csv(path + 'links_small.csv', encoding='UTF-8')\n",
    "links_small = links_small[links_small['tmdbId'].notnull()]['tmdbId'].astype('int')"
   ]
  },
  {
   "cell_type": "code",
   "execution_count": null,
   "metadata": {},
   "outputs": [],
   "source": [
    "df = df[df.index.isin(links_small)]"
   ]
  },
  {
   "attachments": {},
   "cell_type": "markdown",
   "metadata": {},
   "source": [
    "### Bag-of-words Model"
   ]
  },
  {
   "cell_type": "code",
   "execution_count": null,
   "metadata": {},
   "outputs": [],
   "source": [
    "df_movies = pd.DataFrame()"
   ]
  },
  {
   "cell_type": "code",
   "execution_count": null,
   "metadata": {},
   "outputs": [],
   "source": [
    "df_movies['keywords'] = df['keywords'].apply(lambda x: [i['name'] for i in eval(x)])\n",
    "df_movies['keywords'] = df_movies['keywords'].apply(lambda x: ' '.join([i.replace(\" \", \"\") for i in x]))"
   ]
  },
  {
   "cell_type": "code",
   "execution_count": null,
   "metadata": {},
   "outputs": [],
   "source": [
    "df_movies['overview'] = df['overview'].fillna('')"
   ]
  },
  {
   "cell_type": "code",
   "execution_count": null,
   "metadata": {},
   "outputs": [],
   "source": [
    "df_movies['release_date'] = pd.to_datetime(df['release_date'], errors='coerce').apply(lambda x: str(x).split('-')[0] if x!= np.nan else np.nan)"
   ]
  },
  {
   "cell_type": "code",
   "execution_count": null,
   "metadata": {},
   "outputs": [],
   "source": [
    "df_movies['cast'] = df['cast'].apply(lambda x:[i['name'] for i in eval(x)])\n",
    "df_movies['cast'] = df_movies['cast'].apply(lambda x: ' '.join([i.replace(\" \", \"\") for i in x]))"
   ]
  },
  {
   "cell_type": "code",
   "execution_count": null,
   "metadata": {},
   "outputs": [],
   "source": [
    "df_movies['genres'] = df['genres'].apply(lambda x: [i['name'] for i in eval(x)])\n",
    "df_movies['genres'] = df_movies['genres'].apply(lambda x: ' '.join([i.replace(\" \", \"\") for i in x]))"
   ]
  },
  {
   "cell_type": "code",
   "execution_count": null,
   "metadata": {},
   "outputs": [],
   "source": [
    "df_movies['title'] = df['title']"
   ]
  },
  {
   "cell_type": "code",
   "execution_count": null,
   "metadata": {},
   "outputs": [],
   "source": [
    "# merge all fields into 'tag' column\n",
    "df_movies['tags'] = df_movies['keywords'] + ' ' + df_movies['cast']+' '+df_movies['genres']+' '+df_movies['release_date']"
   ]
  },
  {
   "cell_type": "code",
   "execution_count": null,
   "metadata": {},
   "outputs": [],
   "source": [
    "df_movies.drop(df_movies[df_movies['tags']==''].index, inplace=True)\n",
    "df_movies.drop_duplicates(inplace=True)"
   ]
  },
  {
   "cell_type": "code",
   "execution_count": null,
   "metadata": {},
   "outputs": [],
   "source": [
    "df_movies['new_id'] = range(0, len(df_movies))"
   ]
  },
  {
   "cell_type": "code",
   "execution_count": null,
   "metadata": {},
   "outputs": [],
   "source": [
    "df_movies = df_movies[['new_id', 'title', 'tags']]"
   ]
  },
  {
   "cell_type": "code",
   "execution_count": null,
   "metadata": {},
   "outputs": [],
   "source": [
    "pd.set_option('display.max_colwidth', 500)\n",
    "pd.set_option('display.expand_frame_repr', False)"
   ]
  },
  {
   "cell_type": "code",
   "execution_count": null,
   "metadata": {},
   "outputs": [],
   "source": [
    "df_movies"
   ]
  },
  {
   "cell_type": "code",
   "execution_count": null,
   "metadata": {},
   "outputs": [],
   "source": [
    "df_movies.to_csv('movies.csv')"
   ]
  },
  {
   "attachments": {},
   "cell_type": "markdown",
   "metadata": {},
   "source": [
    "### Vectorization"
   ]
  },
  {
   "cell_type": "code",
   "execution_count": null,
   "metadata": {},
   "outputs": [],
   "source": [
    "stop = list(stopwords.words('english'))\n",
    "\n",
    "# create the tfid vectorizer, alternatively you can also use countVectorizer\n",
    "tfidf =  TfidfVectorizer(max_features=5000, analyzer = 'word', stop_words=stop)\n",
    "vectorized_data = tfidf.fit_transform(df_movies['tags'])\n",
    "count_matrix = pd.DataFrame(vectorized_data.toarray(), index=df_movies['tags'].index.tolist())"
   ]
  },
  {
   "cell_type": "code",
   "execution_count": null,
   "metadata": {},
   "outputs": [],
   "source": [
    "count_matrix"
   ]
  },
  {
   "cell_type": "code",
   "execution_count": null,
   "metadata": {},
   "outputs": [],
   "source": [
    "print(tfidf.get_feature_names_out()[940:990])"
   ]
  },
  {
   "attachments": {},
   "cell_type": "markdown",
   "metadata": {},
   "source": [
    "## Dimensionality Reduction"
   ]
  },
  {
   "cell_type": "code",
   "execution_count": null,
   "metadata": {},
   "outputs": [],
   "source": [
    "svd = TruncatedSVD(n_components=3000)\n",
    "reduced_data = svd.fit_transform(count_matrix)"
   ]
  },
  {
   "attachments": {},
   "cell_type": "markdown",
   "metadata": {},
   "source": [
    "## Text Similarity with Cosine Similarity Scores"
   ]
  },
  {
   "cell_type": "code",
   "execution_count": null,
   "metadata": {},
   "outputs": [],
   "source": [
    "similarity = cosine_similarity(reduced_data)"
   ]
  },
  {
   "cell_type": "code",
   "execution_count": null,
   "metadata": {},
   "outputs": [],
   "source": [
    "np.save('movies_similarity', similarity)"
   ]
  },
  {
   "cell_type": "markdown",
   "metadata": {},
   "source": [
    "## Generate Recommendation"
   ]
  },
  {
   "cell_type": "code",
   "execution_count": 2,
   "metadata": {},
   "outputs": [],
   "source": [
    "similarity = np.load('movies_similarity.npy')"
   ]
  },
  {
   "cell_type": "code",
   "execution_count": 3,
   "metadata": {},
   "outputs": [
    {
     "data": {
      "text/html": [
       "<div>\n",
       "<style scoped>\n",
       "    .dataframe tbody tr th:only-of-type {\n",
       "        vertical-align: middle;\n",
       "    }\n",
       "\n",
       "    .dataframe tbody tr th {\n",
       "        vertical-align: top;\n",
       "    }\n",
       "\n",
       "    .dataframe thead th {\n",
       "        text-align: right;\n",
       "    }\n",
       "</style>\n",
       "<table border=\"1\" class=\"dataframe\">\n",
       "  <thead>\n",
       "    <tr style=\"text-align: right;\">\n",
       "      <th></th>\n",
       "      <th>id</th>\n",
       "      <th>new_id</th>\n",
       "      <th>title</th>\n",
       "      <th>tags</th>\n",
       "    </tr>\n",
       "  </thead>\n",
       "  <tbody>\n",
       "    <tr>\n",
       "      <th>0</th>\n",
       "      <td>862</td>\n",
       "      <td>0</td>\n",
       "      <td>Toy Story</td>\n",
       "      <td>jealousy toy boy friendship friends rivalry bo...</td>\n",
       "    </tr>\n",
       "    <tr>\n",
       "      <th>1</th>\n",
       "      <td>8844</td>\n",
       "      <td>1</td>\n",
       "      <td>Jumanji</td>\n",
       "      <td>boardgame disappearance basedonchildren'sbook ...</td>\n",
       "    </tr>\n",
       "    <tr>\n",
       "      <th>2</th>\n",
       "      <td>15602</td>\n",
       "      <td>2</td>\n",
       "      <td>Grumpier Old Men</td>\n",
       "      <td>fishing bestfriend duringcreditsstinger oldmen...</td>\n",
       "    </tr>\n",
       "    <tr>\n",
       "      <th>3</th>\n",
       "      <td>31357</td>\n",
       "      <td>3</td>\n",
       "      <td>Waiting to Exhale</td>\n",
       "      <td>basedonnovel interracialrelationship singlemot...</td>\n",
       "    </tr>\n",
       "    <tr>\n",
       "      <th>4</th>\n",
       "      <td>11862</td>\n",
       "      <td>4</td>\n",
       "      <td>Father of the Bride Part II</td>\n",
       "      <td>baby midlifecrisis confidence aging daughter m...</td>\n",
       "    </tr>\n",
       "  </tbody>\n",
       "</table>\n",
       "</div>"
      ],
      "text/plain": [
       "      id  new_id                        title  \\\n",
       "0    862       0                    Toy Story   \n",
       "1   8844       1                      Jumanji   \n",
       "2  15602       2             Grumpier Old Men   \n",
       "3  31357       3            Waiting to Exhale   \n",
       "4  11862       4  Father of the Bride Part II   \n",
       "\n",
       "                                                tags  \n",
       "0  jealousy toy boy friendship friends rivalry bo...  \n",
       "1  boardgame disappearance basedonchildren'sbook ...  \n",
       "2  fishing bestfriend duringcreditsstinger oldmen...  \n",
       "3  basedonnovel interracialrelationship singlemot...  \n",
       "4  baby midlifecrisis confidence aging daughter m...  "
      ]
     },
     "execution_count": 3,
     "metadata": {},
     "output_type": "execute_result"
    }
   ],
   "source": [
    "df_movies = pd.read_csv('movies.csv')\n",
    "df_movies.head()"
   ]
  },
  {
   "cell_type": "code",
   "execution_count": 4,
   "metadata": {},
   "outputs": [],
   "source": [
    "# create a function that takes in movie title as input and returns a list of the most similar movies\n",
    "def get_recommendations(title, n, cosine_sim, df_movies):\n",
    "    \n",
    "    # get the index of the movie that matches the title\n",
    "    movie_index = df_movies[df_movies.title==title].new_id.values[0]\n",
    "    \n",
    "    # get the pairwsie similarity scores of all movies with that movie and sort the movies based on the similarity scores\n",
    "    sim_scores_all = sorted(list(enumerate(cosine_sim[movie_index])), key=lambda x: x[1], reverse=True)\n",
    "    \n",
    "    # checks if recommendations are limited\n",
    "    if n > 0:\n",
    "        sim_scores_all = sim_scores_all[1:n+1]\n",
    "        \n",
    "    # get the movie indices of the top similar movies\n",
    "    movie_indices = [i[0] for i in sim_scores_all]\n",
    "    scores = [i[1] for i in sim_scores_all]\n",
    "    \n",
    "    # return the top n most similar movies from the movies df\n",
    "    top_titles_df = pd.DataFrame(df_movies.iloc[movie_indices]['title'])\n",
    "    top_titles_df['sim_scores'] = scores\n",
    "    top_titles_df['ranking'] = range(1, len(top_titles_df) + 1)\n",
    "    \n",
    "    return top_titles_df, sim_scores_all\n"
   ]
  },
  {
   "cell_type": "code",
   "execution_count": null,
   "metadata": {},
   "outputs": [],
   "source": [
    "# # generate a list of recommendations for a specific movie title\n",
    "# movie_name = 'The Matrix'\n",
    "# number_of_recommendations = 15\n",
    "# top_titles_df, _ = get_recommendations(movie_name, number_of_recommendations)"
   ]
  },
  {
   "cell_type": "code",
   "execution_count": 57,
   "metadata": {},
   "outputs": [
    {
     "data": {
      "text/plain": [
       "['Delhi Belly', 'Most Eligible Bachelor']"
      ]
     },
     "execution_count": 57,
     "metadata": {},
     "output_type": "execute_result"
    }
   ],
   "source": [
    "df1 = netflix_merge(df_1)\n",
    "list(df1[df1['type'] == \"MOVIE\"]['Title'])\n"
   ]
  },
  {
   "cell_type": "code",
   "execution_count": 43,
   "metadata": {},
   "outputs": [],
   "source": [
    "df1 = netflix_merge(df_1)"
   ]
  },
  {
   "cell_type": "code",
   "execution_count": 5,
   "metadata": {},
   "outputs": [],
   "source": [
    "# list of movies a user has seen\n",
    "movie_list = ['The Lion King', 'Se7en', 'Blade Runner', 'Quantum of Solace', 'Casino Royale', 'Skyfall']\n",
    "\n",
    "# create a copy of the movie dataframe and add a column in which we aggregated the scores\n",
    "user_scores = pd.DataFrame(df_movies['title'])\n",
    "user_scores['sim_scores'] = 0.0\n",
    "\n",
    "# top number of scores to be considered for each movie\n",
    "number_of_recommendations = 10000\n",
    "for movie_name in movie_list:\n",
    "    try:\n",
    "        top_titles_df, _ = get_recommendations(movie_name, number_of_recommendations,\n",
    "                                               similarity, df_movies)\n",
    "    except:\n",
    "        pass\n",
    "    # aggregate the scores\n",
    "    user_scores = pd.concat([user_scores, top_titles_df[['title', 'sim_scores']]]).groupby(['title'], as_index=False).sum({'sim_scores'})"
   ]
  },
  {
   "cell_type": "code",
   "execution_count": 6,
   "metadata": {},
   "outputs": [
    {
     "data": {
      "text/html": [
       "<div>\n",
       "<style scoped>\n",
       "    .dataframe tbody tr th:only-of-type {\n",
       "        vertical-align: middle;\n",
       "    }\n",
       "\n",
       "    .dataframe tbody tr th {\n",
       "        vertical-align: top;\n",
       "    }\n",
       "\n",
       "    .dataframe thead th {\n",
       "        text-align: right;\n",
       "    }\n",
       "</style>\n",
       "<table border=\"1\" class=\"dataframe\">\n",
       "  <thead>\n",
       "    <tr style=\"text-align: right;\">\n",
       "      <th></th>\n",
       "      <th>title</th>\n",
       "      <th>sim_scores</th>\n",
       "    </tr>\n",
       "  </thead>\n",
       "  <tbody>\n",
       "    <tr>\n",
       "      <th>5831</th>\n",
       "      <td>Spectre</td>\n",
       "      <td>1.067911</td>\n",
       "    </tr>\n",
       "    <tr>\n",
       "      <th>8163</th>\n",
       "      <td>Total Recall</td>\n",
       "      <td>0.633910</td>\n",
       "    </tr>\n",
       "    <tr>\n",
       "      <th>3403</th>\n",
       "      <td>Johnny English</td>\n",
       "      <td>0.586215</td>\n",
       "    </tr>\n",
       "    <tr>\n",
       "      <th>5555</th>\n",
       "      <td>Shaft</td>\n",
       "      <td>0.577136</td>\n",
       "    </tr>\n",
       "    <tr>\n",
       "      <th>3533</th>\n",
       "      <td>King Solomon's Mines</td>\n",
       "      <td>0.562624</td>\n",
       "    </tr>\n",
       "    <tr>\n",
       "      <th>6084</th>\n",
       "      <td>Surviving the Game</td>\n",
       "      <td>0.548778</td>\n",
       "    </tr>\n",
       "    <tr>\n",
       "      <th>7818</th>\n",
       "      <td>The Three Musketeers</td>\n",
       "      <td>0.530187</td>\n",
       "    </tr>\n",
       "    <tr>\n",
       "      <th>4172</th>\n",
       "      <td>Mirage</td>\n",
       "      <td>0.526142</td>\n",
       "    </tr>\n",
       "    <tr>\n",
       "      <th>358</th>\n",
       "      <td>Alice in Wonderland</td>\n",
       "      <td>0.488152</td>\n",
       "    </tr>\n",
       "    <tr>\n",
       "      <th>2168</th>\n",
       "      <td>Everything or Nothing</td>\n",
       "      <td>0.469017</td>\n",
       "    </tr>\n",
       "    <tr>\n",
       "      <th>4568</th>\n",
       "      <td>Nothing to Lose</td>\n",
       "      <td>0.461521</td>\n",
       "    </tr>\n",
       "    <tr>\n",
       "      <th>1824</th>\n",
       "      <td>Die Another Day</td>\n",
       "      <td>0.440202</td>\n",
       "    </tr>\n",
       "    <tr>\n",
       "      <th>4675</th>\n",
       "      <td>Ong Bak 2</td>\n",
       "      <td>0.424322</td>\n",
       "    </tr>\n",
       "    <tr>\n",
       "      <th>6243</th>\n",
       "      <td>The 39 Steps</td>\n",
       "      <td>0.412018</td>\n",
       "    </tr>\n",
       "    <tr>\n",
       "      <th>3833</th>\n",
       "      <td>Lord of the Flies</td>\n",
       "      <td>0.411404</td>\n",
       "    </tr>\n",
       "    <tr>\n",
       "      <th>7484</th>\n",
       "      <td>The Pink Panther</td>\n",
       "      <td>0.409758</td>\n",
       "    </tr>\n",
       "    <tr>\n",
       "      <th>2574</th>\n",
       "      <td>Get Carter</td>\n",
       "      <td>0.409143</td>\n",
       "    </tr>\n",
       "    <tr>\n",
       "      <th>8460</th>\n",
       "      <td>Wanted</td>\n",
       "      <td>0.406770</td>\n",
       "    </tr>\n",
       "    <tr>\n",
       "      <th>7825</th>\n",
       "      <td>The Time Machine</td>\n",
       "      <td>0.390594</td>\n",
       "    </tr>\n",
       "    <tr>\n",
       "      <th>1146</th>\n",
       "      <td>Brother</td>\n",
       "      <td>0.387138</td>\n",
       "    </tr>\n",
       "  </tbody>\n",
       "</table>\n",
       "</div>"
      ],
      "text/plain": [
       "                      title  sim_scores\n",
       "5831                Spectre    1.067911\n",
       "8163           Total Recall    0.633910\n",
       "3403         Johnny English    0.586215\n",
       "5555                  Shaft    0.577136\n",
       "3533   King Solomon's Mines    0.562624\n",
       "6084     Surviving the Game    0.548778\n",
       "7818   The Three Musketeers    0.530187\n",
       "4172                 Mirage    0.526142\n",
       "358     Alice in Wonderland    0.488152\n",
       "2168  Everything or Nothing    0.469017\n",
       "4568        Nothing to Lose    0.461521\n",
       "1824        Die Another Day    0.440202\n",
       "4675              Ong Bak 2    0.424322\n",
       "6243           The 39 Steps    0.412018\n",
       "3833      Lord of the Flies    0.411404\n",
       "7484       The Pink Panther    0.409758\n",
       "2574             Get Carter    0.409143\n",
       "8460                 Wanted    0.406770\n",
       "7825       The Time Machine    0.390594\n",
       "1146                Brother    0.387138"
      ]
     },
     "execution_count": 6,
     "metadata": {},
     "output_type": "execute_result"
    }
   ],
   "source": [
    "user_scores = user_scores[~user_scores['title'].isin(movie_list)]\n",
    "user_scores.sort_values(by='sim_scores', ascending=False)[:20]"
   ]
  },
  {
   "cell_type": "markdown",
   "metadata": {},
   "source": [
    "### Merge with Netflix Data"
   ]
  },
  {
   "cell_type": "code",
   "execution_count": 7,
   "metadata": {},
   "outputs": [],
   "source": [
    "netflix = pd.read_csv('../Netflix-Data/titles.csv')"
   ]
  },
  {
   "cell_type": "code",
   "execution_count": 8,
   "metadata": {},
   "outputs": [],
   "source": [
    "netflix = netflix[['title', 'type', 'imdb_score', 'imdb_votes', 'tmdb_popularity', 'tmdb_score']]\n",
    "netflix = netflix[netflix['type'] == 'MOVIE']"
   ]
  },
  {
   "cell_type": "code",
   "execution_count": 9,
   "metadata": {},
   "outputs": [],
   "source": [
    "recs = netflix.merge(user_scores, how='inner', on='title')\n",
    "recs = recs.sort_values(by='sim_scores', ascending=False)[:24]"
   ]
  },
  {
   "cell_type": "code",
   "execution_count": 10,
   "metadata": {},
   "outputs": [],
   "source": [
    "def weighted_rating(x, m, C):\n",
    "    v = x['imdb_votes']\n",
    "    R = x['imdb_score']\n",
    "    return (v/(v+m) * R) + (m/(m+v) * C)"
   ]
  },
  {
   "cell_type": "code",
   "execution_count": 11,
   "metadata": {},
   "outputs": [
    {
     "name": "stderr",
     "output_type": "stream",
     "text": [
      "/var/folders/nx/02f7zqm17f5_3khk_h9y42s00000gn/T/ipykernel_18919/3476767519.py:8: SettingWithCopyWarning: \n",
      "A value is trying to be set on a copy of a slice from a DataFrame.\n",
      "Try using .loc[row_indexer,col_indexer] = value instead\n",
      "\n",
      "See the caveats in the documentation: https://pandas.pydata.org/pandas-docs/stable/user_guide/indexing.html#returning-a-view-versus-a-copy\n",
      "  qualified['imdb_votes'] = qualified['imdb_votes'].astype('int')\n",
      "/var/folders/nx/02f7zqm17f5_3khk_h9y42s00000gn/T/ipykernel_18919/3476767519.py:9: SettingWithCopyWarning: \n",
      "A value is trying to be set on a copy of a slice from a DataFrame.\n",
      "Try using .loc[row_indexer,col_indexer] = value instead\n",
      "\n",
      "See the caveats in the documentation: https://pandas.pydata.org/pandas-docs/stable/user_guide/indexing.html#returning-a-view-versus-a-copy\n",
      "  qualified['imdb_score'] = qualified['imdb_score'].astype('int')\n",
      "/var/folders/nx/02f7zqm17f5_3khk_h9y42s00000gn/T/ipykernel_18919/3476767519.py:10: SettingWithCopyWarning: \n",
      "A value is trying to be set on a copy of a slice from a DataFrame.\n",
      "Try using .loc[row_indexer,col_indexer] = value instead\n",
      "\n",
      "See the caveats in the documentation: https://pandas.pydata.org/pandas-docs/stable/user_guide/indexing.html#returning-a-view-versus-a-copy\n",
      "  qualified['wr'] = qualified.apply(weighted_rating, args=(m, C), axis=1)\n"
     ]
    }
   ],
   "source": [
    "recs = recs[['title', 'imdb_score', 'imdb_votes']]\n",
    "vote_counts = recs[recs['imdb_votes'].notnull()]['imdb_votes'].astype('int')\n",
    "vote_averages = recs[recs['imdb_score'].notnull()]['imdb_score'].astype('int')\n",
    "C = vote_averages.mean()\n",
    "m = vote_counts.quantile(0.60)\n",
    "qualified = recs[(recs['imdb_votes'] >= m) & (recs['imdb_votes'].notnull())\n",
    "                & (recs['imdb_score'].notnull())]\n",
    "qualified['imdb_votes'] = qualified['imdb_votes'].astype('int')\n",
    "qualified['imdb_score'] = qualified['imdb_score'].astype('int')\n",
    "qualified['wr'] = qualified.apply(weighted_rating, args=(m, C), axis=1)\n",
    "qualified = qualified.sort_values('wr', ascending=False).head(20)"
   ]
  },
  {
   "cell_type": "code",
   "execution_count": 12,
   "metadata": {},
   "outputs": [
    {
     "data": {
      "text/html": [
       "<div>\n",
       "<style scoped>\n",
       "    .dataframe tbody tr th:only-of-type {\n",
       "        vertical-align: middle;\n",
       "    }\n",
       "\n",
       "    .dataframe tbody tr th {\n",
       "        vertical-align: top;\n",
       "    }\n",
       "\n",
       "    .dataframe thead th {\n",
       "        text-align: right;\n",
       "    }\n",
       "</style>\n",
       "<table border=\"1\" class=\"dataframe\">\n",
       "  <thead>\n",
       "    <tr style=\"text-align: right;\">\n",
       "      <th></th>\n",
       "      <th>title</th>\n",
       "      <th>imdb_score</th>\n",
       "      <th>imdb_votes</th>\n",
       "      <th>wr</th>\n",
       "    </tr>\n",
       "  </thead>\n",
       "  <tbody>\n",
       "    <tr>\n",
       "      <th>81</th>\n",
       "      <td>Inception</td>\n",
       "      <td>8</td>\n",
       "      <td>2294231</td>\n",
       "      <td>7.866592</td>\n",
       "    </tr>\n",
       "    <tr>\n",
       "      <th>29</th>\n",
       "      <td>Mission: Impossible</td>\n",
       "      <td>7</td>\n",
       "      <td>420673</td>\n",
       "      <td>6.680235</td>\n",
       "    </tr>\n",
       "    <tr>\n",
       "      <th>35</th>\n",
       "      <td>Starship Troopers</td>\n",
       "      <td>7</td>\n",
       "      <td>291452</td>\n",
       "      <td>6.585476</td>\n",
       "    </tr>\n",
       "    <tr>\n",
       "      <th>88</th>\n",
       "      <td>Road to Perdition</td>\n",
       "      <td>7</td>\n",
       "      <td>265216</td>\n",
       "      <td>6.558939</td>\n",
       "    </tr>\n",
       "    <tr>\n",
       "      <th>6</th>\n",
       "      <td>Dirty Harry</td>\n",
       "      <td>7</td>\n",
       "      <td>155051</td>\n",
       "      <td>6.396788</td>\n",
       "    </tr>\n",
       "    <tr>\n",
       "      <th>85</th>\n",
       "      <td>Wanted</td>\n",
       "      <td>6</td>\n",
       "      <td>384995</td>\n",
       "      <td>5.931739</td>\n",
       "    </tr>\n",
       "    <tr>\n",
       "      <th>36</th>\n",
       "      <td>Mission: Impossible II</td>\n",
       "      <td>6</td>\n",
       "      <td>337987</td>\n",
       "      <td>5.925089</td>\n",
       "    </tr>\n",
       "    <tr>\n",
       "      <th>187</th>\n",
       "      <td>Total Recall</td>\n",
       "      <td>6</td>\n",
       "      <td>253352</td>\n",
       "      <td>5.909158</td>\n",
       "    </tr>\n",
       "    <tr>\n",
       "      <th>140</th>\n",
       "      <td>The Golden Compass</td>\n",
       "      <td>6</td>\n",
       "      <td>187485</td>\n",
       "      <td>5.891140</td>\n",
       "    </tr>\n",
       "    <tr>\n",
       "      <th>238</th>\n",
       "      <td>Legend</td>\n",
       "      <td>6</td>\n",
       "      <td>178601</td>\n",
       "      <td>5.888148</td>\n",
       "    </tr>\n",
       "  </tbody>\n",
       "</table>\n",
       "</div>"
      ],
      "text/plain": [
       "                      title  imdb_score  imdb_votes        wr\n",
       "81                Inception           8     2294231  7.866592\n",
       "29      Mission: Impossible           7      420673  6.680235\n",
       "35        Starship Troopers           7      291452  6.585476\n",
       "88        Road to Perdition           7      265216  6.558939\n",
       "6               Dirty Harry           7      155051  6.396788\n",
       "85                   Wanted           6      384995  5.931739\n",
       "36   Mission: Impossible II           6      337987  5.925089\n",
       "187            Total Recall           6      253352  5.909158\n",
       "140      The Golden Compass           6      187485  5.891140\n",
       "238                  Legend           6      178601  5.888148"
      ]
     },
     "execution_count": 12,
     "metadata": {},
     "output_type": "execute_result"
    }
   ],
   "source": [
    "qualified"
   ]
  },
  {
   "cell_type": "markdown",
   "metadata": {},
   "source": [
    "## Get non-Netflix movies"
   ]
  },
  {
   "cell_type": "code",
   "execution_count": 13,
   "metadata": {},
   "outputs": [],
   "source": [
    "not_netflix_recs = user_scores[~user_scores['title'].isin(netflix['title'])]\n",
    "not_netflix_recs = not_netflix_recs.sort_values(by='sim_scores', ascending=False)"
   ]
  },
  {
   "cell_type": "code",
   "execution_count": 14,
   "metadata": {},
   "outputs": [
    {
     "data": {
      "text/html": [
       "<div>\n",
       "<style scoped>\n",
       "    .dataframe tbody tr th:only-of-type {\n",
       "        vertical-align: middle;\n",
       "    }\n",
       "\n",
       "    .dataframe tbody tr th {\n",
       "        vertical-align: top;\n",
       "    }\n",
       "\n",
       "    .dataframe thead th {\n",
       "        text-align: right;\n",
       "    }\n",
       "</style>\n",
       "<table border=\"1\" class=\"dataframe\">\n",
       "  <thead>\n",
       "    <tr style=\"text-align: right;\">\n",
       "      <th></th>\n",
       "      <th>title</th>\n",
       "      <th>sim_scores</th>\n",
       "    </tr>\n",
       "  </thead>\n",
       "  <tbody>\n",
       "    <tr>\n",
       "      <th>5831</th>\n",
       "      <td>Spectre</td>\n",
       "      <td>1.067911</td>\n",
       "    </tr>\n",
       "    <tr>\n",
       "      <th>3403</th>\n",
       "      <td>Johnny English</td>\n",
       "      <td>0.586215</td>\n",
       "    </tr>\n",
       "    <tr>\n",
       "      <th>5555</th>\n",
       "      <td>Shaft</td>\n",
       "      <td>0.577136</td>\n",
       "    </tr>\n",
       "    <tr>\n",
       "      <th>3533</th>\n",
       "      <td>King Solomon's Mines</td>\n",
       "      <td>0.562624</td>\n",
       "    </tr>\n",
       "    <tr>\n",
       "      <th>6084</th>\n",
       "      <td>Surviving the Game</td>\n",
       "      <td>0.548778</td>\n",
       "    </tr>\n",
       "    <tr>\n",
       "      <th>7818</th>\n",
       "      <td>The Three Musketeers</td>\n",
       "      <td>0.530187</td>\n",
       "    </tr>\n",
       "    <tr>\n",
       "      <th>358</th>\n",
       "      <td>Alice in Wonderland</td>\n",
       "      <td>0.488152</td>\n",
       "    </tr>\n",
       "    <tr>\n",
       "      <th>2168</th>\n",
       "      <td>Everything or Nothing</td>\n",
       "      <td>0.469017</td>\n",
       "    </tr>\n",
       "    <tr>\n",
       "      <th>1824</th>\n",
       "      <td>Die Another Day</td>\n",
       "      <td>0.440202</td>\n",
       "    </tr>\n",
       "    <tr>\n",
       "      <th>4675</th>\n",
       "      <td>Ong Bak 2</td>\n",
       "      <td>0.424322</td>\n",
       "    </tr>\n",
       "    <tr>\n",
       "      <th>6243</th>\n",
       "      <td>The 39 Steps</td>\n",
       "      <td>0.412018</td>\n",
       "    </tr>\n",
       "    <tr>\n",
       "      <th>3833</th>\n",
       "      <td>Lord of the Flies</td>\n",
       "      <td>0.411404</td>\n",
       "    </tr>\n",
       "    <tr>\n",
       "      <th>7484</th>\n",
       "      <td>The Pink Panther</td>\n",
       "      <td>0.409758</td>\n",
       "    </tr>\n",
       "    <tr>\n",
       "      <th>2574</th>\n",
       "      <td>Get Carter</td>\n",
       "      <td>0.409143</td>\n",
       "    </tr>\n",
       "    <tr>\n",
       "      <th>7825</th>\n",
       "      <td>The Time Machine</td>\n",
       "      <td>0.390594</td>\n",
       "    </tr>\n",
       "    <tr>\n",
       "      <th>1316</th>\n",
       "      <td>Caught</td>\n",
       "      <td>0.386828</td>\n",
       "    </tr>\n",
       "    <tr>\n",
       "      <th>307</th>\n",
       "      <td>Africa: The Serengeti</td>\n",
       "      <td>0.383665</td>\n",
       "    </tr>\n",
       "    <tr>\n",
       "      <th>7983</th>\n",
       "      <td>The World Is Not Enough</td>\n",
       "      <td>0.378256</td>\n",
       "    </tr>\n",
       "    <tr>\n",
       "      <th>7192</th>\n",
       "      <td>The Lion King 2: Simba's Pride</td>\n",
       "      <td>0.376694</td>\n",
       "    </tr>\n",
       "    <tr>\n",
       "      <th>995</th>\n",
       "      <td>Bloody Sunday</td>\n",
       "      <td>0.376487</td>\n",
       "    </tr>\n",
       "  </tbody>\n",
       "</table>\n",
       "</div>"
      ],
      "text/plain": [
       "                               title  sim_scores\n",
       "5831                         Spectre    1.067911\n",
       "3403                  Johnny English    0.586215\n",
       "5555                           Shaft    0.577136\n",
       "3533            King Solomon's Mines    0.562624\n",
       "6084              Surviving the Game    0.548778\n",
       "7818            The Three Musketeers    0.530187\n",
       "358              Alice in Wonderland    0.488152\n",
       "2168           Everything or Nothing    0.469017\n",
       "1824                 Die Another Day    0.440202\n",
       "4675                       Ong Bak 2    0.424322\n",
       "6243                    The 39 Steps    0.412018\n",
       "3833               Lord of the Flies    0.411404\n",
       "7484                The Pink Panther    0.409758\n",
       "2574                      Get Carter    0.409143\n",
       "7825                The Time Machine    0.390594\n",
       "1316                          Caught    0.386828\n",
       "307            Africa: The Serengeti    0.383665\n",
       "7983         The World Is Not Enough    0.378256\n",
       "7192  The Lion King 2: Simba's Pride    0.376694\n",
       "995                    Bloody Sunday    0.376487"
      ]
     },
     "execution_count": 14,
     "metadata": {},
     "output_type": "execute_result"
    }
   ],
   "source": [
    "not_netflix_recs[:20]"
   ]
  },
  {
   "cell_type": "markdown",
   "metadata": {},
   "source": [
    "## Test"
   ]
  },
  {
   "cell_type": "code",
   "execution_count": 15,
   "metadata": {},
   "outputs": [],
   "source": [
    "def clean_watch_history(df):\n",
    "    '''\n",
    "    Function that cleans a given users watch history data\n",
    "    Input: dataframe\n",
    "    Output: (cleaned) dataframe\n",
    "    '''\n",
    "    df = df.rename(columns = {\"Title\": \"History\"})\n",
    "    df['Date'] = pd.to_datetime(df['Date'])\n",
    "    df['Day']= df['Date'].dt.day\n",
    "    df['Month']= df['Date'].dt.month\n",
    "    df['Year']= df['Date'].dt.year\n",
    "    df['Day_of_week'] = df['Date'].dt.dayofweek\n",
    "\n",
    "    df['Title'] = df['History'].str.rsplit(': ', 2).str[0]\n",
    "    df['Season'] = df['History'].str.rsplit(': ', 2).str[1]\n",
    "    df['Episode'] = df['History'].str.rsplit(': ', 2).str[2]\n",
    "\n",
    "    df['Type'] = df['Episode'].apply(lambda x : 'Movie' if (pd.isna(x)==True) else 'TV')\n",
    "\n",
    "    tv = df[df['Type']!='Movie']\n",
    "    tv['Season'] = tv['Season'].str.split().str[1]\n",
    "\n",
    "    movies = df[df['Type']=='Movie']\n",
    "    movies['Title'] = movies['History']\n",
    "    movies['Season'] = None\n",
    "\n",
    "    df = pd.concat([movies, tv], ignore_index = True)\n",
    "    return df"
   ]
  },
  {
   "cell_type": "code",
   "execution_count": 26,
   "metadata": {},
   "outputs": [],
   "source": [
    "def netflix_merge(df):\n",
    "    '''\n",
    "    Function that merges given watch history with netflix dataset,\n",
    "    and returns merged dataset\n",
    "    '''\n",
    "    titles = pd.read_csv('../Netflix-Data/titles.csv')\n",
    "    merged = df.merge(titles, left_on = 'Title', right_on = 'title', how = 'inner')\n",
    "    cols_to_drop = ['production_countries', 'imdb_id', 'age_certification', \n",
    "                    'title', 'seasons', 'tmdb_popularity']\n",
    "    merged = merged.drop(cols_to_drop, axis = 1)\n",
    "    return merged"
   ]
  },
  {
   "cell_type": "code",
   "execution_count": 17,
   "metadata": {},
   "outputs": [],
   "source": [
    "def get_movie_list(df):\n",
    "    return list(df[df['type'] == \"MOVIE\"]['Title'])"
   ]
  },
  {
   "cell_type": "code",
   "execution_count": 18,
   "metadata": {},
   "outputs": [],
   "source": [
    "def get_recommendations(title, n, cosine_sim, df_movies):\n",
    "    \n",
    "    # get the index of the movie that matches the title\n",
    "    movie_index = df_movies[df_movies.title==title].new_id.values[0]\n",
    "    \n",
    "    # get the pairwsie similarity scores of all movies with that movie and sort the movies based on the similarity scores\n",
    "    sim_scores_all = sorted(list(enumerate(cosine_sim[movie_index])), key=lambda x: x[1], reverse=True)\n",
    "    \n",
    "    # checks if recommendations are limited\n",
    "    if n > 0:\n",
    "        sim_scores_all = sim_scores_all[1:n+1]\n",
    "        \n",
    "    # get the movie indices of the top similar movies\n",
    "    movie_indices = [i[0] for i in sim_scores_all]\n",
    "    scores = [i[1] for i in sim_scores_all]\n",
    "    \n",
    "    # return the top n most similar movies from the movies df\n",
    "    top_titles_df = pd.DataFrame(df_movies.iloc[movie_indices]['title'])\n",
    "    top_titles_df['sim_scores'] = scores\n",
    "    top_titles_df['ranking'] = range(1, len(top_titles_df) + 1)\n",
    "    \n",
    "    return top_titles_df, sim_scores_all"
   ]
  },
  {
   "cell_type": "code",
   "execution_count": 33,
   "metadata": {},
   "outputs": [],
   "source": [
    "def get_top_movies(movie_list):\n",
    "    similarity = np.load('movies_similarity.npy')\n",
    "    df_movies = pd.read_csv('movies.csv')\n",
    "\n",
    "    user_scores = pd.DataFrame(df_movies['title'])\n",
    "    user_scores['sim_scores'] = 0.0\n",
    "\n",
    "    # top number of scores to be considered for each movie\n",
    "    number_of_recommendations = 10000\n",
    "    for movie_name in movie_list:\n",
    "        try:\n",
    "            top_titles_df, _ = get_recommendations(movie_name, number_of_recommendations,\n",
    "                                                similarity, df_movies)\n",
    "        except:\n",
    "            continue\n",
    "        # aggregate the scores\n",
    "        user_scores = pd.concat([user_scores, top_titles_df[['title', 'sim_scores']]]).groupby(['title'], as_index=False).sum({'sim_scores'})\n",
    "\n",
    "    user_scores = user_scores[~user_scores['title'].isin(movie_list)]\n",
    "    return user_scores.sort_values(by='sim_scores', ascending=False)[:20]"
   ]
  },
  {
   "cell_type": "code",
   "execution_count": 63,
   "metadata": {},
   "outputs": [],
   "source": [
    "def get_netflix_recs(user_scores):\n",
    "    netflix = pd.read_csv('../Netflix-Data/titles.csv')\n",
    "    netflix = netflix[['title', 'type', 'imdb_score', 'imdb_votes', 'tmdb_popularity', 'tmdb_score']]\n",
    "    netflix = netflix[netflix['type'] == 'MOVIE']\n",
    "\n",
    "    recs = netflix.merge(user_scores, how='inner', on='title')\n",
    "    recs = recs.sort_values(by='sim_scores', ascending=False)[:24]\n",
    "    \n",
    "    rated_recs = recs[['title', 'imdb_score', 'imdb_votes']]\n",
    "    vote_counts = rated_recs[rated_recs['imdb_votes'].notnull()]['imdb_votes'].astype('int')\n",
    "    vote_averages = rated_recs[rated_recs['imdb_score'].notnull()]['imdb_score'].astype('int')\n",
    "    C = vote_averages.mean()\n",
    "    m = vote_counts.quantile(0.40)\n",
    "    qualified = rated_recs[(rated_recs['imdb_votes'] >= m) & (rated_recs['imdb_votes'].notnull())\n",
    "                    & (rated_recs['imdb_score'].notnull())]\n",
    "    qualified['imdb_votes'] = qualified['imdb_votes'].astype('int')\n",
    "    qualified['imdb_score'] = qualified['imdb_score'].astype('int')\n",
    "    qualified['wr'] = qualified.apply(weighted_rating, args=(m, C), axis=1)\n",
    "    qualified = qualified.sort_values('wr', ascending=False).head(20)\n",
    "\n",
    "    if len(recs) > 5:\n",
    "        return list(qualified['title'])\n",
    "    else:\n",
    "        return list(recs['title'])"
   ]
  },
  {
   "cell_type": "code",
   "execution_count": 64,
   "metadata": {},
   "outputs": [],
   "source": [
    "def get_not_netflix_recs(user_scores):\n",
    "    netflix = pd.read_csv('../Netflix-Data/titles.csv')\n",
    "    netflix = netflix[['title', 'type', 'imdb_score', 'imdb_votes', 'tmdb_popularity', 'tmdb_score']]\n",
    "    netflix = netflix[netflix['type'] == 'MOVIE']\n",
    "\n",
    "    not_netflix_recs = user_scores[~user_scores['title'].isin(netflix['title'])]\n",
    "    not_netflix_recs = not_netflix_recs.sort_values(by='sim_scores', ascending=False)[:20]\n",
    "    return list(not_netflix_recs['title'])"
   ]
  },
  {
   "cell_type": "code",
   "execution_count": 45,
   "metadata": {},
   "outputs": [],
   "source": [
    "def weighted_rating(x, m, C):\n",
    "    v = x['imdb_votes']\n",
    "    R = x['imdb_score']\n",
    "    return (v/(v+m) * R) + (m/(m+v) * C)"
   ]
  },
  {
   "cell_type": "code",
   "execution_count": 65,
   "metadata": {},
   "outputs": [
    {
     "name": "stderr",
     "output_type": "stream",
     "text": [
      "/var/folders/nx/02f7zqm17f5_3khk_h9y42s00000gn/T/ipykernel_18919/3536717928.py:14: FutureWarning: In a future version of pandas all arguments of StringMethods.rsplit except for the argument 'pat' will be keyword-only.\n",
      "  df['Title'] = df['History'].str.rsplit(': ', 2).str[0]\n",
      "/var/folders/nx/02f7zqm17f5_3khk_h9y42s00000gn/T/ipykernel_18919/3536717928.py:15: FutureWarning: In a future version of pandas all arguments of StringMethods.rsplit except for the argument 'pat' will be keyword-only.\n",
      "  df['Season'] = df['History'].str.rsplit(': ', 2).str[1]\n",
      "/var/folders/nx/02f7zqm17f5_3khk_h9y42s00000gn/T/ipykernel_18919/3536717928.py:16: FutureWarning: In a future version of pandas all arguments of StringMethods.rsplit except for the argument 'pat' will be keyword-only.\n",
      "  df['Episode'] = df['History'].str.rsplit(': ', 2).str[2]\n",
      "/var/folders/nx/02f7zqm17f5_3khk_h9y42s00000gn/T/ipykernel_18919/3536717928.py:21: SettingWithCopyWarning: \n",
      "A value is trying to be set on a copy of a slice from a DataFrame.\n",
      "Try using .loc[row_indexer,col_indexer] = value instead\n",
      "\n",
      "See the caveats in the documentation: https://pandas.pydata.org/pandas-docs/stable/user_guide/indexing.html#returning-a-view-versus-a-copy\n",
      "  tv['Season'] = tv['Season'].str.split().str[1]\n",
      "/var/folders/nx/02f7zqm17f5_3khk_h9y42s00000gn/T/ipykernel_18919/3536717928.py:24: SettingWithCopyWarning: \n",
      "A value is trying to be set on a copy of a slice from a DataFrame.\n",
      "Try using .loc[row_indexer,col_indexer] = value instead\n",
      "\n",
      "See the caveats in the documentation: https://pandas.pydata.org/pandas-docs/stable/user_guide/indexing.html#returning-a-view-versus-a-copy\n",
      "  movies['Title'] = movies['History']\n",
      "/var/folders/nx/02f7zqm17f5_3khk_h9y42s00000gn/T/ipykernel_18919/3536717928.py:25: SettingWithCopyWarning: \n",
      "A value is trying to be set on a copy of a slice from a DataFrame.\n",
      "Try using .loc[row_indexer,col_indexer] = value instead\n",
      "\n",
      "See the caveats in the documentation: https://pandas.pydata.org/pandas-docs/stable/user_guide/indexing.html#returning-a-view-versus-a-copy\n",
      "  movies['Season'] = None\n"
     ]
    }
   ],
   "source": [
    "df_1 = pd.read_csv('../Netflix-Data/Sample-History2.csv')\n",
    "df_1 = clean_watch_history(df_1)\n",
    "\n",
    "df1 = netflix_merge(df_1)\n",
    "\n",
    "df1_movies = get_movie_list(df1)"
   ]
  },
  {
   "cell_type": "code",
   "execution_count": 66,
   "metadata": {},
   "outputs": [
    {
     "name": "stderr",
     "output_type": "stream",
     "text": [
      "/var/folders/nx/02f7zqm17f5_3khk_h9y42s00000gn/T/ipykernel_18919/2399372641.py:16: SettingWithCopyWarning: \n",
      "A value is trying to be set on a copy of a slice from a DataFrame.\n",
      "Try using .loc[row_indexer,col_indexer] = value instead\n",
      "\n",
      "See the caveats in the documentation: https://pandas.pydata.org/pandas-docs/stable/user_guide/indexing.html#returning-a-view-versus-a-copy\n",
      "  qualified['imdb_votes'] = qualified['imdb_votes'].astype('int')\n",
      "/var/folders/nx/02f7zqm17f5_3khk_h9y42s00000gn/T/ipykernel_18919/2399372641.py:17: SettingWithCopyWarning: \n",
      "A value is trying to be set on a copy of a slice from a DataFrame.\n",
      "Try using .loc[row_indexer,col_indexer] = value instead\n",
      "\n",
      "See the caveats in the documentation: https://pandas.pydata.org/pandas-docs/stable/user_guide/indexing.html#returning-a-view-versus-a-copy\n",
      "  qualified['imdb_score'] = qualified['imdb_score'].astype('int')\n",
      "/var/folders/nx/02f7zqm17f5_3khk_h9y42s00000gn/T/ipykernel_18919/2399372641.py:18: SettingWithCopyWarning: \n",
      "A value is trying to be set on a copy of a slice from a DataFrame.\n",
      "Try using .loc[row_indexer,col_indexer] = value instead\n",
      "\n",
      "See the caveats in the documentation: https://pandas.pydata.org/pandas-docs/stable/user_guide/indexing.html#returning-a-view-versus-a-copy\n",
      "  qualified['wr'] = qualified.apply(weighted_rating, args=(m, C), axis=1)\n"
     ]
    }
   ],
   "source": [
    "df1_top_movies = get_top_movies(df1_movies)\n",
    "\n",
    "df1_netflix_recs = get_netflix_recs(df1_top_movies)\n",
    "\n",
    "df1_not_netflix_recs = get_not_netflix_recs(df1_top_movies)"
   ]
  },
  {
   "cell_type": "code",
   "execution_count": 67,
   "metadata": {},
   "outputs": [
    {
     "data": {
      "text/plain": [
       "['Marc Maron: Thinky Pain',\n",
       " 'Zach Galifianakis: Live at the Purple Onion',\n",
       " 'Bill Hicks: Revelations']"
      ]
     },
     "execution_count": 67,
     "metadata": {},
     "output_type": "execute_result"
    }
   ],
   "source": [
    "df1_netflix_recs"
   ]
  },
  {
   "cell_type": "code",
   "execution_count": 68,
   "metadata": {},
   "outputs": [
    {
     "data": {
      "text/plain": [
       "['Louis C.K.: Chewed Up',\n",
       " 'Louis C.K.: Shameless',\n",
       " 'Louis C.K.: Live at the Beacon Theater',\n",
       " 'Louis C.K.: Oh My God',\n",
       " 'Louis C.K.: Live at The Comedy Store',\n",
       " 'Carrie Fisher: Wishful Drinking',\n",
       " 'American: The Bill Hicks Story',\n",
       " 'Ricky Gervais Live 4: Science',\n",
       " 'Blue Collar Comedy Tour: The Movie',\n",
       " 'Dylan Moran: Like, Totally...',\n",
       " 'Dylan Moran: Monster',\n",
       " 'Daniel Tosh: Completely Serious',\n",
       " 'Film Socialisme',\n",
       " 'Ricky Gervais Live: Animals',\n",
       " \"George Carlin: It's Bad for Ya!\",\n",
       " 'Eddie Murphy: Delirious',\n",
       " 'Ricky Gervais Live 3: Fame']"
      ]
     },
     "execution_count": 68,
     "metadata": {},
     "output_type": "execute_result"
    }
   ],
   "source": [
    "df1_not_netflix_recs"
   ]
  }
 ],
 "metadata": {
  "kernelspec": {
   "display_name": "PIC16B",
   "language": "python",
   "name": "python3"
  },
  "language_info": {
   "codemirror_mode": {
    "name": "ipython",
    "version": 3
   },
   "file_extension": ".py",
   "mimetype": "text/x-python",
   "name": "python",
   "nbconvert_exporter": "python",
   "pygments_lexer": "ipython3",
   "version": "3.8.15"
  },
  "orig_nbformat": 4
 },
 "nbformat": 4,
 "nbformat_minor": 2
}
